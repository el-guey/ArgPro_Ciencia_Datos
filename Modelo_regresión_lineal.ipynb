{
 "cells": [
  {
   "cell_type": "markdown",
   "metadata": {},
   "source": [
    "# Regresión Lineal\n",
    "\n",
    "El dataset a utilizar es **\"*precios_mercadocentral*\".**\n",
    "\n",
    "El objetivo del análisis y aplicación del modelo es predecir el **costo de un item a futuro.**\n",
    "\n",
    "Para ello utilizare un modelo de regresión lineal, utilizando como variable independiente la fecha y como dependiente el costo en dicha fecha.\n",
    "\n",
    " Veremos si el modelo encuentra relación entre las dos variables para ajustar a unaa ecuación lineal que nos proveea información a futuro del costo del item.\n",
    " Para de esta manera poder determinar si es un item a comprar o esperar a que baje el costo para comprarlo.\n"
   ]
  },
  {
   "cell_type": "markdown",
   "metadata": {},
   "source": [
    "## Carga y limpieza de datos"
   ]
  },
  {
   "cell_type": "code",
   "execution_count": 18,
   "metadata": {},
   "outputs": [],
   "source": [
    "#Import libraries\n",
    "import numpy as np\n",
    "import pandas as pd\n",
    "import matplotlib.pyplot as plt\n",
    "from sklearn.model_selection import train_test_split\n",
    "from sklearn.linear_model import LinearRegression\n",
    "from sklearn.metrics import r2_score, mean_squared_error"
   ]
  },
  {
   "cell_type": "code",
   "execution_count": 19,
   "metadata": {},
   "outputs": [],
   "source": [
    "#Load csv\n",
    "url = 'precios-mercadocentral.csv'\n",
    "df = pd.read_csv(url, index_col=0, encoding='latin-1')"
   ]
  },
  {
   "cell_type": "code",
   "execution_count": 20,
   "metadata": {},
   "outputs": [
    {
     "name": "stdout",
     "output_type": "stream",
     "text": [
      "Descripción del dataframe a implementar el modelo:\n",
      "<class 'pandas.core.frame.DataFrame'>\n",
      "Index: 828 entries, 32 to 32\n",
      "Data columns (total 10 columns):\n",
      " #   Column         Non-Null Count  Dtype  \n",
      "---  ------         --------------  -----  \n",
      " 0   pais           828 non-null    object \n",
      " 1   mercado        828 non-null    object \n",
      " 2   año            828 non-null    int64  \n",
      " 3   mes            828 non-null    object \n",
      " 4   producto       828 non-null    object \n",
      " 5   variedad       828 non-null    object \n",
      " 6   origen         828 non-null    object \n",
      " 7   precio_usd_kg  767 non-null    float64\n",
      " 8   moneda_cod     828 non-null    object \n",
      " 9   moneda         828 non-null    object \n",
      "dtypes: float64(1), int64(1), object(8)\n",
      "memory usage: 71.2+ KB\n"
     ]
    }
   ],
   "source": [
    "#Dataframe descriotion\n",
    "print('Descripción del dataframe a implementar el modelo:')\n",
    "df.head()\n",
    "df.info()"
   ]
  },
  {
   "cell_type": "code",
   "execution_count": 21,
   "metadata": {},
   "outputs": [
    {
     "name": "stdout",
     "output_type": "stream",
     "text": [
      "Registros nulos del dataframe: \n",
      " pais              0\n",
      "mercado           0\n",
      "año               0\n",
      "mes               0\n",
      "producto          0\n",
      "variedad          0\n",
      "origen            0\n",
      "precio_usd_kg    61\n",
      "moneda_cod        0\n",
      "moneda            0\n",
      "dtype: int64\n"
     ]
    }
   ],
   "source": [
    "#View null records in the dataframe\n",
    "nulos = df.isnull().sum()\n",
    "print(f'Registros nulos del dataframe: \\n {nulos}')"
   ]
  },
  {
   "cell_type": "markdown",
   "metadata": {},
   "source": [
    "Eliminamos las filas que contienen valores nulos en la columna <i>\"precio_usd_kg\"</i>, ya que es el dato principal que utilizaremos para nuestro modelo."
   ]
  },
  {
   "cell_type": "code",
   "execution_count": 22,
   "metadata": {},
   "outputs": [],
   "source": [
    "#Drop null and NaN\n",
    "df.dropna(axis=0, subset=['precio_usd_kg'], inplace=True)"
   ]
  },
  {
   "cell_type": "markdown",
   "metadata": {},
   "source": [
    "## Preprocesamiento de los datos"
   ]
  },
  {
   "cell_type": "code",
   "execution_count": 23,
   "metadata": {},
   "outputs": [
    {
     "name": "stdout",
     "output_type": "stream",
     "text": [
      "De esa lista de productos: \n",
      " ['anana' 'banana' 'pomelo' 'limón' 'manzana' 'mandarina' 'melón' 'naranja'\n",
      " 'pera' 'uva' 'cereza' 'ciruela' 'durazno' 'frutilla' 'kiwi' 'acelga'\n",
      " 'ajo' 'albahaca' 'apio' 'arveja' 'batata' 'berenjena' 'brocoli' 'cebolla'\n",
      " 'chaucha' 'choclo' 'epinaca' 'lechuga' 'papa' 'pepino' 'perejil'\n",
      " 'pimiento' 'radicheta' 'remolacha' 'repollo' 'tomate' 'zanahoria'\n",
      " 'zapallito' 'zapallo' 'frambuesa' 'palta'] \n",
      " \n",
      " Vamos a implementar el modelo para el producto AJO.\n"
     ]
    }
   ],
   "source": [
    "#Lower column producto\n",
    "df['producto'] = df['producto'].str.lower()\n",
    "\n",
    "#Choice product for the prediction model\n",
    "prod_index = df['producto'].unique()\n",
    "product = 'ajo'\n",
    "print(f'De esa lista de productos: \\n {prod_index} \\n \\n Vamos a implementar el modelo para el producto {product.upper()}.')"
   ]
  },
  {
   "cell_type": "code",
   "execution_count": 24,
   "metadata": {},
   "outputs": [],
   "source": [
    "#Filter dataframe\n",
    "df_prod = df[(df['producto'])==product].filter(items=['año','mes','producto','precio_usd_kg'])"
   ]
  },
  {
   "cell_type": "code",
   "execution_count": 25,
   "metadata": {},
   "outputs": [],
   "source": [
    "#Map month from string to float\n",
    "df_prod['mes'] = df_prod['mes'].map({\"Enero\":0.077,\"Febrero\":0.154, \"Marzo\":0.231, \"Abril\":0.308, \"Mayo\":0.385, \"Junio\":0.462, \"Julio\":0.539, \"Agosto\":0.616 , \"Septiembre\":0.693, \"Octubre\":0.77, \"Noviembre\":0.847, \"Diciembre\":0.924})\n",
    "\n",
    "#Sum column año and mes for use to variable x\n",
    "df_prod['fecha'] = (df_prod['año']+df_prod['mes'])"
   ]
  },
  {
   "cell_type": "markdown",
   "metadata": {},
   "source": [
    "## Modelo"
   ]
  },
  {
   "cell_type": "code",
   "execution_count": 26,
   "metadata": {},
   "outputs": [],
   "source": [
    "#Assign variables for the model\n",
    "x = df_prod.filter(items=['fecha']).values\n",
    "y = df_prod.filter(items=['precio_usd_kg']).values\n",
    "\n",
    "#Split on training and test\n",
    "x_train, x_test, y_train, y_test = train_test_split(x, y, test_size=0.2, random_state=42)\n",
    "\n",
    "#Linear Regression model creation\n",
    "modelo = LinearRegression()\n",
    "\n",
    "#Training\n",
    "modelo.fit(x_train,y_train)\n",
    "\n",
    "#Prediction\n",
    "y_predic = modelo.predict(x_test)"
   ]
  },
  {
   "cell_type": "markdown",
   "metadata": {},
   "source": [
    "## Metricas de evaluación"
   ]
  },
  {
   "cell_type": "code",
   "execution_count": 27,
   "metadata": {},
   "outputs": [
    {
     "name": "stdout",
     "output_type": "stream",
     "text": [
      "Metricas del modelo de regresión lineal para el producto AJO:\n",
      "Coeficiente: -1.722\n",
      "Intercepto 3476.441\n",
      "Correlacióne entre las variables fecha y precio:  -0.992\n",
      "Error cuadratico medio: 0.106\n",
      "Coeficiente de determinación (r^2): 0.756\n"
     ]
    }
   ],
   "source": [
    "#Metrics\n",
    "correlation = np.corrcoef(x_test.ravel(),y_test.ravel())[0, 1]\n",
    "mse = mean_squared_error(y_test, y_predic)\n",
    "r2 = r2_score(y_test,y_predic)\n",
    "print(f'Metricas del modelo de regresión lineal para el producto {product.upper()}:')\n",
    "print(f'Coeficiente: {modelo.coef_[0][0]:.3f}')\n",
    "print(f'Intercepto {modelo.intercept_[0]:.3f}')\n",
    "print(f'Correlacióne entre las variables fecha y precio:  {correlation:.3f}')\n",
    "print(f'Error cuadratico medio: {mse:.3f}')\n",
    "print(f'Coeficiente de determinación (r^2): {r2:.3f}')"
   ]
  },
  {
   "cell_type": "markdown",
   "metadata": {},
   "source": [
    "## Gráficos"
   ]
  },
  {
   "cell_type": "code",
   "execution_count": 28,
   "metadata": {},
   "outputs": [
    {
     "data": {
      "image/png": "[encoded data removed]",
      "text/plain": [
       "<Figure size 640x480 with 1 Axes>"
      ]
     },
     "metadata": {},
     "output_type": "display_data"
    }
   ],
   "source": [
    "#Graphics\n",
    "plt.scatter(x_train, y_train, label='Datos reales')\n",
    "plt.plot(x_test, y_predic, color='red', linewidth=2, label='Regresión lineal')\n",
    "plt.legend()\n",
    "plt.xlabel('Fecha')\n",
    "plt.ylabel('Precio en USD')\n",
    "plt.title(f'Datos reales vs regresión lineal para el producto {product.upper()}')\n",
    "plt.show()"
   ]
  },
  {
   "cell_type": "code",
   "execution_count": 29,
   "metadata": {},
   "outputs": [
    {
     "name": "stdout",
     "output_type": "stream",
     "text": [
      "El precio del ajo para la fecha de abril de 2019 es: 0.572 USD\n",
      "El precio del ajo para la fecha de agosto de 2020 es: -1.203 USD\n"
     ]
    }
   ],
   "source": [
    "#Predecimos el costo a futuro del item\n",
    "def predict_model(x):\n",
    "  depend = modelo.coef_ * x + modelo.intercept_\n",
    "  return depend\n",
    "\n",
    "print(f'El precio del {product} para la fecha de abril de 2019 es: {predict_model(2019.0308)[0][0]:.3f} USD')\n",
    "\n",
    "print(f'El precio del {product} para la fecha de agosto de 2020 es: {predict_model(2020.0616)[0][0]:.3f} USD')"
   ]
  },
  {
   "cell_type": "markdown",
   "metadata": {},
   "source": [
    "## Analisis de los resultados\n",
    "\n",
    "Utilizaremos las métricas del modelo para analizarlas y realizar una conclusión.\n",
    "\n",
    "<b>Metricas del modelo:</b>\n",
    "\n",
    "<table>\n",
    "    <tr>\n",
    "        <td>Metrica</td>\n",
    "        <td>Valor</td>\n",
    "    </tr>\n",
    "    <tr>\n",
    "        <td>Coeficiente</td>\n",
    "        <td>-1.722</td>\n",
    "    </tr>\n",
    "    <tr>\n",
    "        <td>Intercepto</td>\n",
    "        <td> 3476.441 </td>\n",
    "    </tr>\n",
    "    <tr>\n",
    "        <td>Correlacióne entre las variables fecha y precio</td>\n",
    "        <td>-0.992</td>\n",
    "    </tr>\n",
    "    <tr>\n",
    "        <td>Error cuadratico medio</td>\n",
    "        <td>0.106</td>\n",
    "    </tr>\n",
    "    <tr>\n",
    "        <td>Coeficiente de determinación ($r^2$)</td>\n",
    "        <td>0.756</td>\n",
    "    </tr>\n",
    "</table>\n",
    "\n",
    "<ul>\n",
    "    <li> <b>Coeficiente:<b> vemos que tiene valor negativo, lo que indica que la \"tendencia\" del costo del producto es ir bajando a medida que pasa el tiempo, es decir, valdra cada vez menos.</li>\n",
    "    <li> <b>Correlación:<b> en este caso, el valor que obtenemos es cercano a 1 (<i>tomamos el valor absoluto</i>), lo que indica que existe correlación entre nuestras variables utilizadas (fecha y precio_usd_kg)</li>\n",
    "    <li> <b>Error cuadratico medio:<b> aunque en el gráfico vemos que los datos se encuentran alejados de la recta de regresión lineal (lo que indica que el modelo tiene errores), el valor que obtenemos del error cuadratico medio nos indica que el promedio de errores es pequeño.</li>\n",
    "    <li> <b>Coeficiente de determinación ($r^2$)<b>: en este caso, nuestro valor se encuentra en el medio entre 0.5 y 1. Lo que nos indica que nuestro modelo se ajusta a los datos, aunque no del todo, ya que deberia estar un poco mas cercano al 1, por lo que es probables que posea limitaciones para realizar predicciones (las realice correctamente hasta cierta fecha), o que no indique correctamente los precios en ciertas fechas.</li>\n",
    "</ul>\n",
    "\n",
    "También, utilizamos el modelo para realizar la prediccion del costo en dos fechas futuras distintas, y obtuvimos:\n",
    "\n",
    "<ul>\n",
    "    <li> El precio del ajo para la fecha de abril de 2019 es: 0.572 USD </li>\n",
    "    <li> El precio del ajo para la fecha de agosto de 2020 es: -1.203 USD </li>\n",
    "</ul>\n"
   ]
  },
  {
   "cell_type": "markdown",
   "metadata": {},
   "source": [
    "## Conclusión\n",
    "\n",
    "Efectivamente vemos que nuestro modelo predice que el costo sigue bajando., como indica el coeficiente que obtuvimos.\n",
    "\n",
    "En base a este coeficiente, notamos la limitación de este modelo, que radica principalmente en que no podemos tener precios negativos de productos, como nos indica para agosto de 2020, ya que un producto con precio negaivo directamente no se comercializaria.\n",
    "\n",
    "Por lo tanto, el modelo de regresión lineal aplicado al dataset, aunque se aplique correctamente, con metricas que lo avalan, no es una buena opción para realizar predicciones, ya que terminariamos con precios negativos.\n",
    "\n",
    "Para mejorar este analisis, deberiamos tener datos de mas fechas, es decir, que el rango de fechas a utilizar para el modelo sea mas amplio, para así ver las fluctuaciones del precio, que baje y suban, para realizar una mejor regresión u optar por otro metodo que logre predicciones mas adecuadas.\n",
    "\n",
    "\n"
   ]
  }
 ],
 "metadata": {
  "kernelspec": {
   "display_name": "Python 3",
   "language": "python",
   "name": "python3"
  },
  "language_info": {
   "codemirror_mode": {
    "name": "ipython",
    "version": 3
   },
   "file_extension": ".py",
   "mimetype": "text/x-python",
   "name": "python",
   "nbconvert_exporter": "python",
   "pygments_lexer": "ipython3",
   "version": "3.11.2"
  }
 },
 "nbformat": 4,
 "nbformat_minor": 2
}
